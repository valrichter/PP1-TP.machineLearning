{
 "cells": [
  {
   "cell_type": "code",
   "execution_count": 1,
   "id": "67fd71f6",
   "metadata": {
    "scrolled": true
   },
   "outputs": [],
   "source": [
    "import tensorflow as tf #Red neuronal convolucional\n",
    "import pandas as pd #Visualizar data\n",
    "import numpy as np #La libreria MNIST con los datos esta en formato numpy\n",
    "import matplotlib.pyplot as plt #Graficas\n",
    "from tensorflow.keras.models import Sequential #Tipo de modelo secuelcial, para agruegar capas\n",
    "from tensorflow.keras.layers import Dense, Dropout, Flatten, Conv2D, MaxPooling2D\n",
    "#Dense para crear capas full conected (RNFC)\n",
    "#Dropout para evitar el overfiting, desactivando un porcetaje de neuronas determinado\n",
    "#Flatten para convetir las salidas en un vector 1D\n",
    "#Conv2D para relizar operaciones de convolucion\n",
    "#MaxPooling para realizar operaciones de Maxpooling"
   ]
  },
  {
   "cell_type": "code",
   "execution_count": 2,
   "id": "57c57ca9",
   "metadata": {},
   "outputs": [
    {
     "name": "stdout",
     "output_type": "stream",
     "text": [
      "Dimensiones del set de entrenamiento: (60000, 28, 28)\n",
      "Imagenes de entrenamiento: 60000\n",
      "Imagenes de testeo: 10000\n"
     ]
    }
   ],
   "source": [
    "mnist_data = tf.keras.datasets.mnist\n",
    "\n",
    "#data de entrenamiento y data de testeo\n",
    "(train_images, train_labels),(test_images, test_labels) = mnist_data.load_data()\n",
    "\n",
    "#este set de datos ya viene con data de entrenamiento y de test separados\n",
    "print(\"Dimensiones del set de entrenamiento:\", train_images.shape)\n",
    "print(\"Imagenes de entrenamiento:\", train_images.shape[0])\n",
    "print(\"Imagenes de testeo:\", test_images.shape[0])"
   ]
  },
  {
   "cell_type": "code",
   "execution_count": 3,
   "id": "05f423d3",
   "metadata": {},
   "outputs": [],
   "source": [
    "#Variables\n",
    "\n",
    "#cantidad de digitos a clasificar\n",
    "num_classes = 10\n",
    "#tamanio de cada subconjunto (para no agarra las 60000 y llenar la memoria)\n",
    "batch_size = 128\n",
    "#cuanta veces va a recorrer todo el cojunto de entrenamiento\n",
    "epochs = 5\n",
    "#forma de las imagenes\n",
    "input_shape = (28, 28, 1)"
   ]
  },
  {
   "cell_type": "code",
   "execution_count": 4,
   "id": "85d1d55a",
   "metadata": {},
   "outputs": [
    {
     "name": "stdout",
     "output_type": "stream",
     "text": [
      "ValMinTR 0.0\n",
      "ValMinTE 0.0\n",
      "ValMaxTR 1.0\n",
      "ValMaxTE 1.0\n",
      "\n",
      "Dim (60000, 28, 28, 1)\n",
      "Dim (10000, 28, 28, 1)\n",
      "\n",
      "[7 2 1 ... 4 5 6]\n",
      "[[0. 0. 0. ... 1. 0. 0.]\n",
      " [0. 0. 1. ... 0. 0. 0.]\n",
      " [0. 1. 0. ... 0. 0. 0.]\n",
      " ...\n",
      " [0. 0. 0. ... 0. 0. 0.]\n",
      " [0. 0. 0. ... 0. 0. 0.]\n",
      " [0. 0. 0. ... 0. 0. 0.]]\n"
     ]
    }
   ],
   "source": [
    "#Nomalizamos los valores entre 0 y 1\n",
    "train_images = train_images.astype('float32')\n",
    "test_images = test_images.astype('float32')\n",
    "train_images /= 255\n",
    "test_images /= 255\n",
    "print(\"ValMinTR\", np.amin(train_images))\n",
    "print(\"ValMinTE\", np.amin(test_images))\n",
    "print(\"ValMaxTR\", np.amax(train_images))\n",
    "print(\"ValMaxTE\", np.amax(test_images))\n",
    "print(\"\")\n",
    "\n",
    "#Establecemos el numero de canales en 1 ya que la imgen esta en escala de grises\n",
    "train_images = train_images.reshape(60000, 28, 28, 1)\n",
    "test_images = test_images.reshape(10000, 28, 28, 1)\n",
    "print(\"Dim\", train_images.shape)\n",
    "print(\"Dim\", test_images.shape)\n",
    "print(\"\")\n",
    "\n",
    "#Convertimos los vectores de clase en matrices binarias\n",
    "print(test_labels)\n",
    "train_labels = tf.keras.utils.to_categorical(train_labels, num_classes)\n",
    "test_labels = tf.keras.utils.to_categorical(test_labels, num_classes)\n",
    "print(test_labels)"
   ]
  },
  {
   "cell_type": "code",
   "execution_count": 5,
   "id": "6256a298",
   "metadata": {},
   "outputs": [
    {
     "name": "stdout",
     "output_type": "stream",
     "text": [
      "Model: \"sequential\"\n",
      "_________________________________________________________________\n",
      " Layer (type)                Output Shape              Param #   \n",
      "=================================================================\n",
      " conv2d (Conv2D)             (None, 26, 26, 32)        320       \n",
      "                                                                 \n",
      " max_pooling2d (MaxPooling2D  (None, 13, 13, 32)       0         \n",
      " )                                                               \n",
      "                                                                 \n",
      " conv2d_1 (Conv2D)           (None, 11, 11, 64)        18496     \n",
      "                                                                 \n",
      " max_pooling2d_1 (MaxPooling  (None, 5, 5, 64)         0         \n",
      " 2D)                                                             \n",
      "                                                                 \n",
      " flatten (Flatten)           (None, 1600)              0         \n",
      "                                                                 \n",
      " dropout (Dropout)           (None, 1600)              0         \n",
      "                                                                 \n",
      " dense (Dense)               (None, 10)                16010     \n",
      "                                                                 \n",
      "=================================================================\n",
      "Total params: 34,826\n",
      "Trainable params: 34,826\n",
      "Non-trainable params: 0\n",
      "_________________________________________________________________\n"
     ]
    }
   ],
   "source": [
    "#Creacion del modelo\n",
    "model = Sequential()\n",
    "model.add(Conv2D(32, kernel_size=(3, 3), #32 filtros de 3x3\n",
    "                 activation=\"relu\", \n",
    "                 input_shape=input_shape))\n",
    "model.add(MaxPooling2D(pool_size=(2, 2)))\n",
    "\n",
    "model.add(Conv2D(64, kernel_size=(3, 3), activation=\"relu\")) #64 filtros de 3x3\n",
    "model.add(MaxPooling2D(pool_size=(2, 2)))\n",
    "\n",
    "model.add(Flatten()) #Flatten para covertir el vector en uno unidemensional\n",
    "model.add(Dropout(0.5)) #Apagamo el 50% de las neuronas para reforzar el aprendisaje\n",
    "model.add(Dense(num_classes, activation=\"softmax\")) \n",
    "#esto hara que cada salida tenga un valor entre 0 y 1 de tipo probabilistico\n",
    "\n",
    "model.summary()"
   ]
  },
  {
   "cell_type": "code",
   "execution_count": 6,
   "id": "d0e2a69b",
   "metadata": {},
   "outputs": [
    {
     "name": "stdout",
     "output_type": "stream",
     "text": [
      "Epoch 1/5\n",
      "469/469 [==============================] - 9s 18ms/step - loss: 0.3542 - accuracy: 0.8920\n",
      "Epoch 2/5\n",
      "469/469 [==============================] - 8s 18ms/step - loss: 0.1016 - accuracy: 0.9687\n",
      "Epoch 3/5\n",
      "469/469 [==============================] - 8s 18ms/step - loss: 0.0753 - accuracy: 0.9773\n",
      "Epoch 4/5\n",
      "469/469 [==============================] - 8s 18ms/step - loss: 0.0655 - accuracy: 0.9797\n",
      "Epoch 5/5\n",
      "469/469 [==============================] - 9s 19ms/step - loss: 0.0572 - accuracy: 0.9820\n"
     ]
    }
   ],
   "source": [
    "#Compilamos el modelo\n",
    "model.compile(loss=\"categorical_crossentropy\", \n",
    "              optimizer=\"adam\", \n",
    "              metrics=[\"accuracy\"])\n",
    "\n",
    "#Entrenamiento\n",
    "entrenado = model.fit(train_images, train_labels, \n",
    "          batch_size=batch_size, \n",
    "          epochs=epochs, \n",
    "          verbose=1)"
   ]
  },
  {
   "cell_type": "code",
   "execution_count": 7,
   "id": "f5c8d6d3",
   "metadata": {},
   "outputs": [
    {
     "name": "stdout",
     "output_type": "stream",
     "text": [
      "313/313 [==============================] - 1s 2ms/step - loss: 0.0325 - accuracy: 0.9891\n",
      "TEST LOSS: 0.03251289203763008\n",
      "TEST ACCURACY: 0.9890999794006348\n",
      "\n",
      "PRECISION POR EPOCAS\n",
      "       loss  accuracy\n",
      "0  0.354207  0.892017\n",
      "1  0.101618  0.968717\n",
      "2  0.075293  0.977317\n",
      "3  0.065530  0.979667\n",
      "4  0.057199  0.981983\n"
     ]
    }
   ],
   "source": [
    "#Validation data\n",
    "test_loss, test_accuracy = model.evaluate(test_images, test_labels, verbose=1)\n",
    "print(f\"TEST LOSS: {test_loss}\")\n",
    "print(f\"TEST ACCURACY: {test_accuracy}\")\n",
    "print(\"\")  \n",
    "\n",
    "#Historial\n",
    "frame = pd.DataFrame(entrenado.history)\n",
    "print(\"PRECISION POR EPOCAS\")\n",
    "print(frame)"
   ]
  },
  {
   "cell_type": "code",
   "execution_count": null,
   "id": "1adf3ab1",
   "metadata": {},
   "outputs": [],
   "source": []
  }
 ],
 "metadata": {
  "kernelspec": {
   "display_name": "Python 3 (ipykernel)",
   "language": "python",
   "name": "python3"
  },
  "language_info": {
   "codemirror_mode": {
    "name": "ipython",
    "version": 3
   },
   "file_extension": ".py",
   "mimetype": "text/x-python",
   "name": "python",
   "nbconvert_exporter": "python",
   "pygments_lexer": "ipython3",
   "version": "3.7.13"
  }
 },
 "nbformat": 4,
 "nbformat_minor": 5
}
